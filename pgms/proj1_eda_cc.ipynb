{
 "cells": [
  {
   "cell_type": "code",

   "metadata": {},
   "outputs": [],
   "source": [
    "import pandas as pd\n",
    "import numpy as np\n",
    "from matplotlib import pyplot as plt\n",

   ]
  },
  {
   "cell_type": "code",

   "metadata": {},
   "outputs": [],
   "source": [
    "#initialise the number of weeks for the dataset\n",
    "num_weeks = 2\n",
    "\n",
    "#initialise the date for the first week of the dataset (week ending on start_date)\n",
    "start_date = filedate = pd.Timestamp('2019-06-01 00:00:00')\n",
    "\n",
    "#initialise the regex for the MTA turnstile url\n",
    "filename_regex = \"http://web.mta.info/developers/data/nyct/turnstile/turnstile_{}.txt\"\n",
    "\n",
    "filelist = []\n",
    "\n",
    "for numfiles in range (num_weeks):\n",
    "\n",
    "    # create the appropriate filename for the week\n",
    "    filedate_str = str(filedate.year)[2:4] + str(filedate.month).zfill(2) + str(filedate.day).zfill(2)\n",
    "    filename = filename_regex.format(filedate_str)\n",
    "\n",
    "    # read the file and append it to the list of files to be concacated\n",
    "    df = pd.read_csv(filename, keep_date_col=True)\n",
    "    filelist.append(df)\n",
    "\n",
    "    # advance to the next week\n",
    "    filedate += pd.Timedelta(days=7)\n",
    "\n",
    "mta_df = pd.concat(filelist, axis=0, ignore_index=True)"
   ]
  },
  {
   "cell_type": "code",

   "metadata": {},
   "outputs": [
    {
     "data": {
      "text/html": [
       "<div>\n",
       "<style scoped>\n",
       "    .dataframe tbody tr th:only-of-type {\n",
       "        vertical-align: middle;\n",
       "    }\n",
       "\n",
       "    .dataframe tbody tr th {\n",
       "        vertical-align: top;\n",
       "    }\n",
       "\n",
       "    .dataframe thead th {\n",
       "        text-align: right;\n",
       "    }\n",
       "</style>\n",
       "<table border=\"1\" class=\"dataframe\">\n",
       "  <thead>\n",
       "    <tr style=\"text-align: right;\">\n",
       "      <th></th>\n",
       "      <th>C/A</th>\n",
       "      <th>UNIT</th>\n",
       "      <th>SCP</th>\n",
       "      <th>STATION</th>\n",
       "      <th>LINENAME</th>\n",
       "      <th>DIVISION</th>\n",
       "      <th>DATE</th>\n",
       "      <th>TIME</th>\n",
       "      <th>DESC</th>\n",
       "      <th>ENTRIES</th>\n",
       "      <th>EXITS</th>\n",
       "    </tr>\n",
       "  </thead>\n",
       "  <tbody>\n",
       "    <tr>\n",
       "      <th>0</th>\n",
       "      <td>A002</td>\n",
       "      <td>R051</td>\n",
       "      <td>02-00-00</td>\n",
       "      <td>59 ST</td>\n",
       "      <td>NQR456W</td>\n",
       "      <td>BMT</td>\n",
       "      <td>05/25/2019</td>\n",
       "      <td>00:00:00</td>\n",
       "      <td>REGULAR</td>\n",
       "      <td>7071830</td>\n",
       "      <td>2396411</td>\n",
       "    </tr>\n",
       "    <tr>\n",
       "      <th>1</th>\n",
       "      <td>A002</td>\n",
       "      <td>R051</td>\n",
       "      <td>02-00-00</td>\n",
       "      <td>59 ST</td>\n",
       "      <td>NQR456W</td>\n",
       "      <td>BMT</td>\n",
       "      <td>05/25/2019</td>\n",
       "      <td>04:00:00</td>\n",
       "      <td>REGULAR</td>\n",
       "      <td>7071844</td>\n",
       "      <td>2396415</td>\n",
       "    </tr>\n",
       "    <tr>\n",
       "      <th>2</th>\n",
       "      <td>A002</td>\n",
       "      <td>R051</td>\n",
       "      <td>02-00-00</td>\n",
       "      <td>59 ST</td>\n",
       "      <td>NQR456W</td>\n",
       "      <td>BMT</td>\n",
       "      <td>05/25/2019</td>\n",
       "      <td>08:00:00</td>\n",
       "      <td>REGULAR</td>\n",
       "      <td>7071864</td>\n",
       "      <td>2396443</td>\n",
       "    </tr>\n",
       "    <tr>\n",
       "      <th>3</th>\n",
       "      <td>A002</td>\n",
       "      <td>R051</td>\n",
       "      <td>02-00-00</td>\n",
       "      <td>59 ST</td>\n",
       "      <td>NQR456W</td>\n",
       "      <td>BMT</td>\n",
       "      <td>05/25/2019</td>\n",
       "      <td>12:00:00</td>\n",
       "      <td>REGULAR</td>\n",
       "      <td>7071943</td>\n",
       "      <td>2396500</td>\n",
       "    </tr>\n",
       "    <tr>\n",
       "      <th>4</th>\n",
       "      <td>A002</td>\n",
       "      <td>R051</td>\n",
       "      <td>02-00-00</td>\n",
       "      <td>59 ST</td>\n",
       "      <td>NQR456W</td>\n",
       "      <td>BMT</td>\n",
       "      <td>05/25/2019</td>\n",
       "      <td>16:00:00</td>\n",
       "      <td>REGULAR</td>\n",
       "      <td>7072182</td>\n",
       "      <td>2396555</td>\n",
       "    </tr>\n",
       "  </tbody>\n",
       "</table>\n",
       "</div>"
      ],
      "text/plain": [
       "    C/A  UNIT       SCP STATION LINENAME DIVISION        DATE      TIME  \\\n",
       "0  A002  R051  02-00-00   59 ST  NQR456W      BMT  05/25/2019  00:00:00   \n",
       "1  A002  R051  02-00-00   59 ST  NQR456W      BMT  05/25/2019  04:00:00   \n",
       "2  A002  R051  02-00-00   59 ST  NQR456W      BMT  05/25/2019  08:00:00   \n",
       "3  A002  R051  02-00-00   59 ST  NQR456W      BMT  05/25/2019  12:00:00   \n",
       "4  A002  R051  02-00-00   59 ST  NQR456W      BMT  05/25/2019  16:00:00   \n",
       "\n",
       "      DESC  ENTRIES  \\\n",
       "0  REGULAR  7071830   \n",
       "1  REGULAR  7071844   \n",
       "2  REGULAR  7071864   \n",
       "3  REGULAR  7071943   \n",
       "4  REGULAR  7072182   \n",
       "\n",
       "   EXITS                                                                 \n",
       "0                                            2396411                     \n",
       "1                                            2396415                     \n",
       "2                                            2396443                     \n",
       "3                                            2396500                     \n",
       "4                                            2396555                     "
      ]
     },

     "metadata": {},
     "output_type": "execute_result"
    }
   ],
   "source": [
    "mta_df.head()\n",
    "#mta_df.dtypes"
   ]
  },
  {
   "cell_type": "code",
   "execution_count": 5,
   "metadata": {},
   "outputs": [],
   "source": [
    "mta_df[\"DATE_TIME\"] = pd.to_datetime(mta_df.DATE + mta_df.TIME, format='%m/%d/%Y%H:%M:%S')"
   ]
  },
  {
   "cell_type": "code",
   "metadata": {},
   "outputs": [
    {
     "data": {
      "text/plain": [

     "metadata": {},
     "output_type": "execute_result"
    }
   ],
   "source": [
    "mta_df.dtypes"
   ]
  },
  {
   "cell_type": "code",


   ]
  },
  {
   "cell_type": "code",

   "metadata": {},
   "outputs": [
    {
     "data": {
      "text/html": [
       "<div>\n",
       "<style scoped>\n",
       "    .dataframe tbody tr th:only-of-type {\n",
       "        vertical-align: middle;\n",
       "    }\n",
       "\n",
       "    .dataframe tbody tr th {\n",
       "        vertical-align: top;\n",
       "    }\n",
       "\n",
       "    .dataframe thead th {\n",
       "        text-align: right;\n",
       "    }\n",
       "</style>\n",
       "<table border=\"1\" class=\"dataframe\">\n",
       "  <thead>\n",
       "    <tr style=\"text-align: right;\">\n",
       "      <th></th>\n",

       "    </tr>\n",
       "  </thead>\n",
       "  <tbody>\n",
       "    <tr>\n",
       "      <th>0</th>\n",

       "    </tr>\n",
       "  </tbody>\n",
       "</table>\n",
       "</div>"
      ],
      "text/plain": [

     "metadata": {},
     "output_type": "execute_result"
    }
   ],
   "source": [

   ]
  },
  {
   "cell_type": "code",

   "metadata": {},
   "outputs": [
    {
     "data": {
      "text/plain": [
       "Index(['Station ID', 'Complex ID', 'GTFS Stop ID', 'Division', 'Line',\n",
       "       'Stop Name', 'Borough', 'Daytime Routes', 'Structure', 'GTFS Latitude',\n",
       "       'GTFS Longitude', 'North Direction Label', 'South Direction Label',\n",
       "       'ADA', 'ADA Notes'],\n",
       "      dtype='object')"
      ]
     },
     "execution_count": 11,
     "metadata": {},
     "output_type": "execute_result"
    }
   ],
   "source": [
    "stations.columns"
   ]
  },
  {
   "cell_type": "code",


   "source": [
    "stations_samp=stations[0:10]\n",
    "stations_samp.head()"
   ]
  },
  {
   "cell_type": "code",

   "source": [
    "import logging\n",
    "from time import sleep\n",
    "from random import randint\n",
    "from geopy.geocoders import Nominatim\n",
    "from geopy.exc import GeocoderTimedOut, GeocoderServiceError\n",
    "\n",
    "user_agent = 'user_me_{}'.format(randint(10000,99999))\n",
    "geolocator = Nominatim(user_agent=user_agent)\n",
    "\n",
    "#geolocator = geopy.Nominatim(user_agent='geoapiExercises')\n",
    "\n",

   ]
  },
  {
   "cell_type": "code",
   "execution_count": null,
   "metadata": {},
   "outputs": [],
   "source": [
    "zipcodes = stations_samp.apply(reverse_geocode, axis=1, geolocator=geolocator, lat_field='GTFS Latitude', lon_field='GTFS Longitude')"
   ]
  }
 ],
 "metadata": {
  "kernelspec": {
   "display_name": "Python 3",
   "language": "python",
   "name": "python3"
  },
  "language_info": {
   "codemirror_mode": {
    "name": "ipython",
    "version": 3
   },
   "file_extension": ".py",
   "mimetype": "text/x-python",
   "name": "python",
   "nbconvert_exporter": "python",
   "pygments_lexer": "ipython3",
   "version": "3.8.5"
  }
 },
 "nbformat": 4,
 "nbformat_minor": 4
}
